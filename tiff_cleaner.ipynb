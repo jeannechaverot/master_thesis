{
 "cells": [
  {
   "cell_type": "code",
   "execution_count": 3,
   "metadata": {},
   "outputs": [
    {
     "ename": "TypeError",
     "evalue": "Unable to cast 'type' to java type 'java.lang.Class'",
     "output_type": "error",
     "traceback": [
      "\u001b[0;31m---------------------------------------------------------------------------\u001b[0m",
      "\u001b[0;31mTypeError\u001b[0m                                 Traceback (most recent call last)",
      "\u001b[0;32m<ipython-input-3-4e384909a6cf>\u001b[0m in \u001b[0;36m<module>\u001b[0;34m\u001b[0m\n\u001b[1;32m      4\u001b[0m \u001b[0;32mimport\u001b[0m \u001b[0mmatplotlib\u001b[0m\u001b[0;34m.\u001b[0m\u001b[0mpyplot\u001b[0m \u001b[0;32mas\u001b[0m \u001b[0mplt\u001b[0m\u001b[0;34m\u001b[0m\u001b[0;34m\u001b[0m\u001b[0m\n\u001b[1;32m      5\u001b[0m \u001b[0;32mimport\u001b[0m \u001b[0mskimage\u001b[0m\u001b[0;34m\u001b[0m\u001b[0;34m\u001b[0m\u001b[0m\n\u001b[0;32m----> 6\u001b[0;31m \u001b[0mij\u001b[0m \u001b[0;34m=\u001b[0m \u001b[0mimagej\u001b[0m\u001b[0;34m.\u001b[0m\u001b[0minit\u001b[0m\u001b[0;34m(\u001b[0m\u001b[0;34m)\u001b[0m\u001b[0;34m\u001b[0m\u001b[0;34m\u001b[0m\u001b[0m\n\u001b[0m\u001b[1;32m      7\u001b[0m \u001b[0;34m\u001b[0m\u001b[0m\n",
      "\u001b[0;32m~/opt/anaconda3/lib/python3.8/site-packages/imagej/__init__.py\u001b[0m in \u001b[0;36minit\u001b[0;34m(ij_dir_or_version_or_endpoint, headless)\u001b[0m\n\u001b[1;32m    212\u001b[0m                 \"\"\"\n\u001b[1;32m    213\u001b[0m                 \u001b[0;32mraise\u001b[0m \u001b[0mImportError\u001b[0m\u001b[0;34m(\u001b[0m\u001b[0;34m\"Your ImageJ installation does not support IJ1. This function does not work.\"\u001b[0m\u001b[0;34m)\u001b[0m\u001b[0;34m\u001b[0m\u001b[0;34m\u001b[0m\u001b[0m\n\u001b[0;32m--> 214\u001b[0;31m         \u001b[0mWindowManager\u001b[0m \u001b[0;34m=\u001b[0m \u001b[0mJObject\u001b[0m\u001b[0;34m(\u001b[0m\u001b[0m_WindowManager\u001b[0m\u001b[0;34m)\u001b[0m\u001b[0;34m\u001b[0m\u001b[0;34m\u001b[0m\u001b[0m\n\u001b[0m\u001b[1;32m    215\u001b[0m \u001b[0;34m\u001b[0m\u001b[0m\n\u001b[1;32m    216\u001b[0m     \u001b[0;32mclass\u001b[0m \u001b[0mImageJPython\u001b[0m\u001b[0;34m:\u001b[0m\u001b[0;34m\u001b[0m\u001b[0;34m\u001b[0m\u001b[0m\n",
      "\u001b[0;32m~/opt/anaconda3/lib/python3.8/site-packages/jpype/_jobject.py\u001b[0m in \u001b[0;36m__new__\u001b[0;34m(cls, *args, **kwargs)\u001b[0m\n\u001b[1;32m     57\u001b[0m         \u001b[0;32mif\u001b[0m \u001b[0mlen\u001b[0m\u001b[0;34m(\u001b[0m\u001b[0margs\u001b[0m\u001b[0;34m)\u001b[0m \u001b[0;34m==\u001b[0m \u001b[0;36m0\u001b[0m\u001b[0;34m:\u001b[0m\u001b[0;34m\u001b[0m\u001b[0;34m\u001b[0m\u001b[0m\n\u001b[1;32m     58\u001b[0m             \u001b[0;32mreturn\u001b[0m \u001b[0m_jpype\u001b[0m\u001b[0;34m.\u001b[0m\u001b[0m_java_lang_Object\u001b[0m\u001b[0;34m(\u001b[0m\u001b[0;34m)\u001b[0m\u001b[0;34m\u001b[0m\u001b[0;34m\u001b[0m\u001b[0m\n\u001b[0;32m---> 59\u001b[0;31m         \u001b[0;32mreturn\u001b[0m \u001b[0m_JObjectFactory\u001b[0m\u001b[0;34m(\u001b[0m\u001b[0;34m*\u001b[0m\u001b[0margs\u001b[0m\u001b[0;34m,\u001b[0m \u001b[0;34m**\u001b[0m\u001b[0mkwargs\u001b[0m\u001b[0;34m)\u001b[0m\u001b[0;34m\u001b[0m\u001b[0;34m\u001b[0m\u001b[0m\n\u001b[0m\u001b[1;32m     60\u001b[0m \u001b[0;34m\u001b[0m\u001b[0m\n\u001b[1;32m     61\u001b[0m \u001b[0;34m\u001b[0m\u001b[0m\n",
      "\u001b[0;32m~/opt/anaconda3/lib/python3.8/site-packages/jpype/_jobject.py\u001b[0m in \u001b[0;36m_JObjectFactory\u001b[0;34m(v, tp)\u001b[0m\n\u001b[1;32m    109\u001b[0m     \u001b[0;31m# Given a Java class\u001b[0m\u001b[0;34m\u001b[0m\u001b[0;34m\u001b[0m\u001b[0;34m\u001b[0m\u001b[0m\n\u001b[1;32m    110\u001b[0m     \u001b[0;32mif\u001b[0m \u001b[0misinstance\u001b[0m\u001b[0;34m(\u001b[0m\u001b[0mtp\u001b[0m\u001b[0;34m,\u001b[0m \u001b[0m_jpype\u001b[0m\u001b[0;34m.\u001b[0m\u001b[0m_JClass\u001b[0m\u001b[0;34m)\u001b[0m\u001b[0;34m:\u001b[0m\u001b[0;34m\u001b[0m\u001b[0;34m\u001b[0m\u001b[0m\n\u001b[0;32m--> 111\u001b[0;31m         \u001b[0;32mreturn\u001b[0m \u001b[0mtp\u001b[0m\u001b[0;34m.\u001b[0m\u001b[0m_cast\u001b[0m\u001b[0;34m(\u001b[0m\u001b[0mv\u001b[0m\u001b[0;34m)\u001b[0m\u001b[0;34m\u001b[0m\u001b[0;34m\u001b[0m\u001b[0m\n\u001b[0m\u001b[1;32m    112\u001b[0m \u001b[0;34m\u001b[0m\u001b[0m\n\u001b[1;32m    113\u001b[0m     \u001b[0;32mraise\u001b[0m \u001b[0mTypeError\u001b[0m\u001b[0;34m(\u001b[0m\u001b[0;34m\"Invalid type conversion to %s requested.\"\u001b[0m \u001b[0;34m%\u001b[0m \u001b[0mtp\u001b[0m\u001b[0;34m)\u001b[0m\u001b[0;34m\u001b[0m\u001b[0;34m\u001b[0m\u001b[0m\n",
      "\u001b[0;31mTypeError\u001b[0m: Unable to cast 'type' to java type 'java.lang.Class'"
     ]
    }
   ],
   "source": [
    "# Create an ImageJ gateway with the newest available version of ImageJ.\n",
    "import imagej\n",
    "import os\n",
    "import matplotlib.pyplot as plt\n",
    "import skimage\n",
    "ij = imagej.init()\n",
    "\n"
   ]
  },
  {
   "cell_type": "code",
   "execution_count": 13,
   "metadata": {},
   "outputs": [
    {
     "name": "stdout",
     "output_type": "stream",
     "text": [
      "Plate2_row2_7.tif\n",
      "Plate1_row2_8.tif\n",
      "Plate2_row2_6.tif\n",
      "D6_SUN96_ser4.tif\n",
      "Plate2_row2_4.tif\n",
      "Plate2_row2_5.tif\n",
      "D6_SUN96_ser1.tif\n",
      "Plate2_row2_1.tif\n",
      "D6_SUN96_ser2.tif\n",
      "Plate2_row2_2.tif\n",
      "Plate2_row2_3.tif\n",
      "D6_SUN96_ser3.tif\n",
      "Plate2_row1_6.tif\n",
      "Plate1_row1_8.tif\n",
      "Plate2_row1_7.tif\n",
      "Plate2_row1_5.tif\n",
      "Plate2_row1_4.tif\n",
      "Plate2_row1_1.tif\n",
      "Plate2_row1_3.tif\n",
      "Plate2_row1_2.tif\n",
      "Plate1_row1_1.tif\n",
      "Plate1_row1_2.tif\n",
      "Plate1_row1_3.tif\n",
      "Plate1_row1_7.tif\n",
      "Plate1_row2_7.tif.jpg\n"
     ]
    },
    {
     "name": "stderr",
     "output_type": "stream",
     "text": [
      "[java.lang.Enum.toString] [INFO] Populating metadata\n",
      "[java.lang.Enum.toString] [INFO] Populating metadata\n"
     ]
    },
    {
     "name": "stdout",
     "output_type": "stream",
     "text": [
      "Plate1_row1_6.tif\n",
      "Plate2_row1_8.tif\n",
      "Plate1_row1_4.tif\n",
      "Plate1_row1_5.tif\n",
      "Plate1_row2_1.tif\n",
      "Plate1_row2_3.tif\n",
      "Plate1_row2_2.tif\n",
      "Plate2_row2_8.tif\n",
      "Plate1_row2_6.tif\n",
      "Plate1_row2_7.tif\n",
      "Plate1_row2_5.tif\n",
      "Plate1_row2_4.tif\n"
     ]
    }
   ],
   "source": [
    "# Load an image.\n",
    "directory = 'SharedWithJeanne/mISC/'\n",
    "\n",
    "# Convert the image from ImageJ to xarray, a package that adds\n",
    "# labeled datasets to numpy (http://xarray.pydata.org/en/stable/).\n",
    "\n",
    "\n",
    "\n",
    "for filename in os.listdir(directory):\n",
    "    if filename.endswith(\".jpg\") or filename.endswith(\".tif\"):\n",
    "        print(filename)\n",
    "        jimage = ij.io().open(directory + filename)\n",
    "        image = ij.py.from_java(jimage)\n",
    "        plt.imsave('SharedWithJeanne/new_mISC/' + filename[:-4] + '.jpg', image, cmap='gray')\n",
    "        os.rename(r'SharedWithJeanne/new_mISC/' + filename[:-4] + '.jpg', r'SharedWithJeanne/new_mISC/' + filename)\n",
    "        #skimage.external.tifffile.imsave()\n"
   ]
  },
  {
   "cell_type": "code",
   "execution_count": null,
   "metadata": {},
   "outputs": [],
   "source": []
  }
 ],
 "metadata": {
  "kernelspec": {
   "display_name": "Python 3",
   "language": "python",
   "name": "python3"
  },
  "language_info": {
   "codemirror_mode": {
    "name": "ipython",
    "version": 3
   },
   "file_extension": ".py",
   "mimetype": "text/x-python",
   "name": "python",
   "nbconvert_exporter": "python",
   "pygments_lexer": "ipython3",
   "version": "3.8.5"
  }
 },
 "nbformat": 4,
 "nbformat_minor": 4
}
